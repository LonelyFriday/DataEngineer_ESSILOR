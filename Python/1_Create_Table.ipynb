{
 "cells": [
  {
   "cell_type": "code",
   "execution_count": 25,
   "metadata": {},
   "outputs": [],
   "source": [
    "import psycopg2\n",
    "import pandas as pd"
   ]
  },
  {
   "cell_type": "code",
   "execution_count": 49,
   "metadata": {},
   "outputs": [],
   "source": [
    "# Create Table: items\n",
    "conn = psycopg2.connect(host=\"localhost\", dbname=\"postgres\", user=\"postgres\", password=\"31415926\", port=5432)\n",
    "\n",
    "cur = conn.cursor()\n",
    "\n",
    "cur.execute(\"\"\"CREATE TABLE IF NOT EXISTS items (\n",
    "            item_id INT PRIMARY KEY NOT NULL,\n",
    "            item_description VARCHAR(50) NOT NULL,\n",
    "            item_status VARCHAR(1) NOT NULL\n",
    ");\"\"\")\n",
    "\n",
    "conn.commit()\n",
    "\n",
    "cur.close()\n",
    "conn.close()"
   ]
  },
  {
   "cell_type": "code",
   "execution_count": 50,
   "metadata": {},
   "outputs": [],
   "source": [
    "# Create Table: customers\n",
    "conn = psycopg2.connect(host=\"localhost\", dbname=\"postgres\", user=\"postgres\", password=\"31415926\", port=5432)\n",
    "\n",
    "cur = conn.cursor()\n",
    "\n",
    "cur.execute(\"\"\"\n",
    "    CREATE TABLE IF NOT EXISTS customers (\n",
    "            customer_id INTEGER NOT NULL PRIMARY KEY,\n",
    "            customer_number VARCHAR(50) NOT NULL,\n",
    "            customer_name VARCHAR(50) NOT NULL,\n",
    "            address VARCHAR(100) NOT NULL,\n",
    "            postal_code VARCHAR(10) NOT NULL,\n",
    "            city VARCHAR(50) NOT NULL,\n",
    "            country VARCHAR(50) NOT NULL,\n",
    "            country_code VARCHAR(10) NULL,\n",
    "            telephone VARCHAR(50) NULL\n",
    "    );\n",
    "\"\"\")\n",
    "\n",
    "conn.commit()\n",
    "\n",
    "cur.close()\n",
    "conn.close()"
   ]
  },
  {
   "cell_type": "code",
   "execution_count": 51,
   "metadata": {},
   "outputs": [],
   "source": [
    "# Create Table: order_headers\n",
    "conn = psycopg2.connect(host=\"localhost\", dbname=\"postgres\", user=\"postgres\", password=\"31415926\", port=5432)\n",
    "\n",
    "cur = conn.cursor()\n",
    "\n",
    "cur.execute(\"\"\"\n",
    "    CREATE TABLE IF NOT EXISTS order_headers (\n",
    "            order_id INTEGER NOT NULL PRIMARY KEY,\n",
    "            order_number VARCHAR(20) NOT NULL,\n",
    "            order_date timestamptz NOT NULL,\n",
    "            customer_id integer NOT NULL,\n",
    "            order_status VARCHAR(10) NOT NULL,\n",
    "            currency VARCHAR(10) NOT NULL,\n",
    "            FOREIGN KEY (customer_id) REFERENCES customer(customer_id)\n",
    "    );\n",
    "\"\"\")\n",
    "\n",
    "conn.commit()\n",
    "\n",
    "cur.close()\n",
    "conn.close()"
   ]
  },
  {
   "cell_type": "code",
   "execution_count": 52,
   "metadata": {},
   "outputs": [],
   "source": [
    "# Create Table: order_lines\n",
    "conn = psycopg2.connect(host=\"localhost\", dbname=\"postgres\", user=\"postgres\", password=\"31415926\", port=5432)\n",
    "\n",
    "cur = conn.cursor()\n",
    "\n",
    "cur.execute(\"\"\"\n",
    "    CREATE TABLE IF NOT EXISTS order_lines (\n",
    "            orderline_id INTEGER NOT NULL PRIMARY KEY,\n",
    "            order_id INTEGER NOT NULL,\n",
    "            item_id INTEGER NOT NULL,\n",
    "            ship_date timestamptz NOT NULL,\n",
    "            promise_date timestamptz NOT NULL,\n",
    "            ordered_quantity INTEGER NOT NULL,\n",
    "            FOREIGN KEY (order_id) REFERENCES order_header(order_id),\n",
    "            FOREIGN KEY (item_id) REFERENCES item(item_id)\n",
    "    );\n",
    "\"\"\")\n",
    "\n",
    "conn.commit()\n",
    "\n",
    "cur.close()\n",
    "conn.close()"
   ]
  },
  {
   "cell_type": "code",
   "execution_count": 53,
   "metadata": {},
   "outputs": [],
   "source": [
    "# Create Table: audits\n",
    "conn = psycopg2.connect(host=\"localhost\", dbname=\"postgres\", user=\"postgres\", password=\"31415926\", port=5432)\n",
    "\n",
    "cur = conn.cursor()\n",
    "\n",
    "cur.execute(\"\"\"\n",
    "    CREATE TABLE IF NOT EXISTS audits (\n",
    "            id serial PRIMARY KEY NOT NULL,\n",
    "            start_time timestamptz NOT NULL,\n",
    "            end_time timestamptz NOT NULL,\n",
    "            numberrow_treatment INTEGER NOT NULL,\n",
    "            status VARCHAR(20) NOT NULL\n",
    "    );\n",
    "\"\"\")\n",
    "\n",
    "conn.commit()\n",
    "\n",
    "cur.close()\n",
    "conn.close()"
   ]
  }
 ],
 "metadata": {
  "kernelspec": {
   "display_name": "base",
   "language": "python",
   "name": "python3"
  },
  "language_info": {
   "codemirror_mode": {
    "name": "ipython",
    "version": 3
   },
   "file_extension": ".py",
   "mimetype": "text/x-python",
   "name": "python",
   "nbconvert_exporter": "python",
   "pygments_lexer": "ipython3",
   "version": "3.9.5"
  }
 },
 "nbformat": 4,
 "nbformat_minor": 2
}
